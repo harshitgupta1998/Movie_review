{
 "cells": [
  {
   "cell_type": "code",
   "execution_count": 23,
   "metadata": {},
   "outputs": [],
   "source": [
    "import pandas as pd\n",
    "data=pd.read_pickle('corpus.pkl')\n",
    "#data.append(movies)\n",
    "data\n",
    "movies=['batman','blade_runner','dead_poet','la_chinoise','new_land','orange','pretty-poison','rain_man','superman','weekend_1967']\n"
   ]
  },
  {
   "cell_type": "code",
   "execution_count": 24,
   "metadata": {},
   "outputs": [
    {
     "data": {
      "text/html": [
       "<div>\n",
       "<style scoped>\n",
       "    .dataframe tbody tr th:only-of-type {\n",
       "        vertical-align: middle;\n",
       "    }\n",
       "\n",
       "    .dataframe tbody tr th {\n",
       "        vertical-align: top;\n",
       "    }\n",
       "\n",
       "    .dataframe thead th {\n",
       "        text-align: right;\n",
       "    }\n",
       "</style>\n",
       "<table border=\"1\" class=\"dataframe\">\n",
       "  <thead>\n",
       "    <tr style=\"text-align: right;\">\n",
       "      <th></th>\n",
       "      <th>transcript</th>\n",
       "      <th>polarity</th>\n",
       "      <th>subjectivity</th>\n",
       "      <th>movies</th>\n",
       "    </tr>\n",
       "  </thead>\n",
       "  <tbody>\n",
       "    <tr>\n",
       "      <th>batman</th>\n",
       "      <td>by Pauline Kael In Batman, the movement of the...</td>\n",
       "      <td>0.038153</td>\n",
       "      <td>0.496259</td>\n",
       "      <td>batman</td>\n",
       "    </tr>\n",
       "    <tr>\n",
       "      <th>blade_runner</th>\n",
       "      <td>by Pauline Kael Ridley Scott, the director of ...</td>\n",
       "      <td>0.038437</td>\n",
       "      <td>0.491759</td>\n",
       "      <td>blade_runner</td>\n",
       "    </tr>\n",
       "    <tr>\n",
       "      <th>dead_poet</th>\n",
       "      <td>by Pauline Kael In Dead Poets Society, Robin W...</td>\n",
       "      <td>0.105200</td>\n",
       "      <td>0.510882</td>\n",
       "      <td>dead_poet</td>\n",
       "    </tr>\n",
       "    <tr>\n",
       "      <th>la_chinoise</th>\n",
       "      <td>by Pauline Kael A few weeks ago, I was startle...</td>\n",
       "      <td>0.096195</td>\n",
       "      <td>0.445722</td>\n",
       "      <td>la_chinoise</td>\n",
       "    </tr>\n",
       "    <tr>\n",
       "      <th>new_land</th>\n",
       "      <td>by Pauline Kael Seeing The New Land a year aft...</td>\n",
       "      <td>0.148240</td>\n",
       "      <td>0.420774</td>\n",
       "      <td>new_land</td>\n",
       "    </tr>\n",
       "    <tr>\n",
       "      <th>orange</th>\n",
       "      <td>by Pauline Kael Literal-minded in its sex and ...</td>\n",
       "      <td>0.006532</td>\n",
       "      <td>0.531914</td>\n",
       "      <td>orange</td>\n",
       "    </tr>\n",
       "    <tr>\n",
       "      <th>pretty-poison</th>\n",
       "      <td>by Pauline Kael When I discovered that Pretty ...</td>\n",
       "      <td>0.121999</td>\n",
       "      <td>0.505419</td>\n",
       "      <td>pretty-poison</td>\n",
       "    </tr>\n",
       "    <tr>\n",
       "      <th>rain_man</th>\n",
       "      <td>The following review is from “Rain Man: Stunt,...</td>\n",
       "      <td>0.001471</td>\n",
       "      <td>0.412774</td>\n",
       "      <td>rain_man</td>\n",
       "    </tr>\n",
       "    <tr>\n",
       "      <th>superman</th>\n",
       "      <td>by Pauline Kael Christopher Reeve, the young a...</td>\n",
       "      <td>0.147160</td>\n",
       "      <td>0.518939</td>\n",
       "      <td>superman</td>\n",
       "    </tr>\n",
       "    <tr>\n",
       "      <th>weekend_1967</th>\n",
       "      <td>by Pauline Kael Only the title of Jean-Luc God...</td>\n",
       "      <td>0.116189</td>\n",
       "      <td>0.538116</td>\n",
       "      <td>weekend_1967</td>\n",
       "    </tr>\n",
       "  </tbody>\n",
       "</table>\n",
       "</div>"
      ],
      "text/plain": [
       "                                                      transcript  polarity  \\\n",
       "batman         by Pauline Kael In Batman, the movement of the...  0.038153   \n",
       "blade_runner   by Pauline Kael Ridley Scott, the director of ...  0.038437   \n",
       "dead_poet      by Pauline Kael In Dead Poets Society, Robin W...  0.105200   \n",
       "la_chinoise    by Pauline Kael A few weeks ago, I was startle...  0.096195   \n",
       "new_land       by Pauline Kael Seeing The New Land a year aft...  0.148240   \n",
       "orange         by Pauline Kael Literal-minded in its sex and ...  0.006532   \n",
       "pretty-poison  by Pauline Kael When I discovered that Pretty ...  0.121999   \n",
       "rain_man       The following review is from “Rain Man: Stunt,...  0.001471   \n",
       "superman       by Pauline Kael Christopher Reeve, the young a...  0.147160   \n",
       "weekend_1967   by Pauline Kael Only the title of Jean-Luc God...  0.116189   \n",
       "\n",
       "               subjectivity         movies  \n",
       "batman             0.496259         batman  \n",
       "blade_runner       0.491759   blade_runner  \n",
       "dead_poet          0.510882      dead_poet  \n",
       "la_chinoise        0.445722    la_chinoise  \n",
       "new_land           0.420774       new_land  \n",
       "orange             0.531914         orange  \n",
       "pretty-poison      0.505419  pretty-poison  \n",
       "rain_man           0.412774       rain_man  \n",
       "superman           0.518939       superman  \n",
       "weekend_1967       0.538116   weekend_1967  "
      ]
     },
     "execution_count": 24,
     "metadata": {},
     "output_type": "execute_result"
    }
   ],
   "source": [
    "\n",
    "from textblob import TextBlob\n",
    "pol=lambda x: TextBlob(x).sentiment.polarity\n",
    "sub= lambda x: TextBlob(x).sentiment.subjectivity\n",
    "data['polarity']=data['transcript'].apply(pol)\n",
    "data['subjectivity']=data['transcript'].apply(sub)\n",
    "data['movies']=movies\n",
    "data"
   ]
  },
  {
   "cell_type": "code",
   "execution_count": 30,
   "metadata": {},
   "outputs": [
    {
     "data": {
      "image/png": "[encoded data removed]",
      "text/plain": [
       "<Figure size 720x288 with 1 Axes>"
      ]
     },
     "metadata": {
      "needs_background": "light"
     },
     "output_type": "display_data"
    }
   ],
   "source": [
    "import matplotlib.pyplot as plt\n",
    "\n",
    "plt.rcParams['figure.figsize'] = [10,4]\n",
    "\n",
    "for index, movie in enumerate(data.index):\n",
    "    x = data.polarity.loc[movie]\n",
    "    y = data.subjectivity.loc[movie]\n",
    "    plt.scatter(x, y, color='red')\n",
    "    plt.text(x+.001, y+.001, data['movies'][index], fontsize=10)\n",
    "    plt.xlim(-.01, .20) \n",
    "    \n",
    "plt.title('Sentiment Analysis', fontsize=20)\n",
    "plt.xlabel('<-- Negative ----polarity ---- Positive -->', fontsize=15)\n",
    "plt.ylabel('<-- Facts ----subjectivity ---- Opinions -->', fontsize=15)\n",
    "\n",
    "plt.show()\n",
    "\n",
    "## What is polarity and subjectivity suggests?? "
   ]
  },
  {
   "cell_type": "code",
   "execution_count": null,
   "metadata": {},
   "outputs": [],
   "source": [
    "#[13] subjetcivity"
   ]
  }
 ],
 "metadata": {
  "kernelspec": {
   "display_name": "Python 3",
   "language": "python",
   "name": "python3"
  },
  "language_info": {
   "codemirror_mode": {
    "name": "ipython",
    "version": 3
   },
   "file_extension": ".py",
   "mimetype": "text/x-python",
   "name": "python",
   "nbconvert_exporter": "python",
   "pygments_lexer": "ipython3",
   "version": "3.7.1"
  }
 },
 "nbformat": 4,
 "nbformat_minor": 2
}
