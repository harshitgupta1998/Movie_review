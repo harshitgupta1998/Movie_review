{
 "cells": [
  {
   "cell_type": "code",
   "execution_count": 18,
   "metadata": {},
   "outputs": [],
   "source": [
    "import requests # to make http call easy\n",
    "from bs4 import BeautifulSoup # to pull out data of html and xml\n",
    "import pickle #serialize object\n",
    "\n",
    "def url_to_transcript(url):\n",
    "    page=requests.get(url).text\n",
    "    soup=BeautifulSoup(page,\"lxml\")\n",
    "    text=[p.text for p in soup.find(class_=\"post-content\").find_all('p')]\n",
    "    print(url)\n",
    "    return text\n",
    "#Pauline Kael as a crictic\n",
    "urls=['https://scrapsfromtheloft.com/2020/02/07/pretty-poison-review-pauline-kael/',\n",
    "      'https://scrapsfromtheloft.com/2020/02/07/weekend-1967-review-pauline-kael/',\n",
    "     'https://scrapsfromtheloft.com/2020/02/04/la-chinoise-review-pauline-kael/',\n",
    "     'https://scrapsfromtheloft.com/2019/08/10/rain-man-review-pauline-kael/',\n",
    "     'https://scrapsfromtheloft.com/2019/06/23/the-new-land-nybyggarna-review-pauline-kael/',\n",
    "     'https://scrapsfromtheloft.com/2017/10/09/batman-review-by-pauline-kael/',\n",
    "     'https://scrapsfromtheloft.com/2016/09/18/a-clockwork-orange-pauline-kael/',\n",
    "     'https://scrapsfromtheloft.com/2016/12/28/blade-runner-review-pauline-kael/',\n",
    "     'https://scrapsfromtheloft.com/2017/10/10/dead-poets-society-stonework-review-by-pauline-kael/',\n",
    "     'https://scrapsfromtheloft.com/2017/06/23/superman-1978-package-review-pauline-kael/']\n",
    "\n",
    "movies=['pretty-poison','weekend_1967','la_chinoise','rain_man','new_land','batman','orange','blade_runner','dead_poet','superman']"
   ]
  },
  {
   "cell_type": "code",
   "execution_count": 19,
   "metadata": {},
   "outputs": [
    {
     "name": "stdout",
     "output_type": "stream",
     "text": [
      "https://scrapsfromtheloft.com/2020/02/07/pretty-poison-review-pauline-kael/\n",
      "https://scrapsfromtheloft.com/2020/02/07/weekend-1967-review-pauline-kael/\n",
      "https://scrapsfromtheloft.com/2020/02/04/la-chinoise-review-pauline-kael/\n",
      "https://scrapsfromtheloft.com/2019/08/10/rain-man-review-pauline-kael/\n",
      "https://scrapsfromtheloft.com/2019/06/23/the-new-land-nybyggarna-review-pauline-kael/\n",
      "https://scrapsfromtheloft.com/2017/10/09/batman-review-by-pauline-kael/\n",
      "https://scrapsfromtheloft.com/2016/09/18/a-clockwork-orange-pauline-kael/\n",
      "https://scrapsfromtheloft.com/2016/12/28/blade-runner-review-pauline-kael/\n",
      "https://scrapsfromtheloft.com/2017/10/10/dead-poets-society-stonework-review-by-pauline-kael/\n",
      "https://scrapsfromtheloft.com/2017/06/23/superman-1978-package-review-pauline-kael/\n"
     ]
    }
   ],
   "source": [
    "transcripts = [url_to_transcript(u) for u in urls]"
   ]
  },
  {
   "cell_type": "code",
   "execution_count": 21,
   "metadata": {},
   "outputs": [
    {
     "name": "stderr",
     "output_type": "stream",
     "text": [
      "A subdirectory or file transcripts already exists.\n"
     ]
    }
   ],
   "source": [
    "#!mkdir transcripts\n",
    "data={}\n",
    "for i, c in enumerate(movies):\n",
    "    with open(\"transcripts/\" + c + \".txt\", \"wb\") as file: #load the file\n",
    "        pickle.dump(transcripts[i], file)"
   ]
  },
  {
   "cell_type": "code",
   "execution_count": 22,
   "metadata": {},
   "outputs": [],
   "source": [
    "data={}\n",
    "for i,c in enumerate(movies):\n",
    "    with open(\"transcripts/\"+c+\".txt\",\"rb\") as file: # access the file for reading\n",
    "        data[c]=pickle.load(file)"
   ]
  },
  {
   "cell_type": "code",
   "execution_count": 24,
   "metadata": {},
   "outputs": [],
   "source": [
    "def combine_text(list_of_text):\n",
    "    combined_text=' '.join(list_of_text) #combine the text and remove extra spaces\n",
    "    return combined_text"
   ]
  },
  {
   "cell_type": "code",
   "execution_count": 25,
   "metadata": {},
   "outputs": [],
   "source": [
    "data_combined={key: [combine_text(value)] for (key,value) in data.items()} # generate new transcript for each movie"
   ]
  },
  {
   "cell_type": "code",
   "execution_count": 28,
   "metadata": {},
   "outputs": [
    {
     "data": {
      "text/html": [
       "<div>\n",
       "<style scoped>\n",
       "    .dataframe tbody tr th:only-of-type {\n",
       "        vertical-align: middle;\n",
       "    }\n",
       "\n",
       "    .dataframe tbody tr th {\n",
       "        vertical-align: top;\n",
       "    }\n",
       "\n",
       "    .dataframe thead th {\n",
       "        text-align: right;\n",
       "    }\n",
       "</style>\n",
       "<table border=\"1\" class=\"dataframe\">\n",
       "  <thead>\n",
       "    <tr style=\"text-align: right;\">\n",
       "      <th></th>\n",
       "      <th>transcript</th>\n",
       "    </tr>\n",
       "  </thead>\n",
       "  <tbody>\n",
       "    <tr>\n",
       "      <th>batman</th>\n",
       "      <td>by Pauline Kael In Batman, the movement of the camera gives us the sensation of swerving (by radar) through the sinister nighttime canyons of Goth...</td>\n",
       "    </tr>\n",
       "    <tr>\n",
       "      <th>blade_runner</th>\n",
       "      <td>by Pauline Kael Ridley Scott, the director of the futuristic thriller Blade Runner, sets up the action with a crawl announcing that the time is ea...</td>\n",
       "    </tr>\n",
       "    <tr>\n",
       "      <th>dead_poet</th>\n",
       "      <td>by Pauline Kael In Dead Poets Society, Robin Williams plays John Keating, an eager, dedicated teacher with a gift for liberating his students. Cru...</td>\n",
       "    </tr>\n",
       "    <tr>\n",
       "      <th>la_chinoise</th>\n",
       "      <td>by Pauline Kael A few weeks ago, I was startled to see a big Pop poster of Che Guevara — startled not because students of earlier generations didn...</td>\n",
       "    </tr>\n",
       "    <tr>\n",
       "      <th>new_land</th>\n",
       "      <td>by Pauline Kael Seeing The New Land a year after The Emigrants is like picking up a novel you had put down the day before. The story comes floodin...</td>\n",
       "    </tr>\n",
       "    <tr>\n",
       "      <th>orange</th>\n",
       "      <td>by Pauline Kael Literal-minded in its sex and brutality, Teutonic in its humor, Stanley Kubrick’s A Clockwork Orange might be the work of a strict...</td>\n",
       "    </tr>\n",
       "    <tr>\n",
       "      <th>pretty-poison</th>\n",
       "      <td>by Pauline Kael When I discovered that Pretty Poison had opened without advance publicity or screenings, I rushed to see it, because a movie that ...</td>\n",
       "    </tr>\n",
       "    <tr>\n",
       "      <th>rain_man</th>\n",
       "      <td>The following review is from “Rain Man: Stunt,” by Pauline Kael, originally published in The New Yorker, February 6, 1989. by Pauline Kael Rain Ma...</td>\n",
       "    </tr>\n",
       "    <tr>\n",
       "      <th>superman</th>\n",
       "      <td>by Pauline Kael Christopher Reeve, the young actor chosen to play the lead in Superman, is the best reason to see the movie. He has an open-faced,...</td>\n",
       "    </tr>\n",
       "    <tr>\n",
       "      <th>weekend_1967</th>\n",
       "      <td>by Pauline Kael Only the title of Jean-Luc Godard’s new film is casual and innocent; Weekend is the most powerful mystical movie since The Seventh...</td>\n",
       "    </tr>\n",
       "  </tbody>\n",
       "</table>\n",
       "</div>"
      ],
      "text/plain": [
       "                                                                                                                                                          transcript\n",
       "batman         by Pauline Kael In Batman, the movement of the camera gives us the sensation of swerving (by radar) through the sinister nighttime canyons of Goth...\n",
       "blade_runner   by Pauline Kael Ridley Scott, the director of the futuristic thriller Blade Runner, sets up the action with a crawl announcing that the time is ea...\n",
       "dead_poet      by Pauline Kael In Dead Poets Society, Robin Williams plays John Keating, an eager, dedicated teacher with a gift for liberating his students. Cru...\n",
       "la_chinoise    by Pauline Kael A few weeks ago, I was startled to see a big Pop poster of Che Guevara — startled not because students of earlier generations didn...\n",
       "new_land       by Pauline Kael Seeing The New Land a year after The Emigrants is like picking up a novel you had put down the day before. The story comes floodin...\n",
       "orange         by Pauline Kael Literal-minded in its sex and brutality, Teutonic in its humor, Stanley Kubrick’s A Clockwork Orange might be the work of a strict...\n",
       "pretty-poison  by Pauline Kael When I discovered that Pretty Poison had opened without advance publicity or screenings, I rushed to see it, because a movie that ...\n",
       "rain_man       The following review is from “Rain Man: Stunt,” by Pauline Kael, originally published in The New Yorker, February 6, 1989. by Pauline Kael Rain Ma...\n",
       "superman       by Pauline Kael Christopher Reeve, the young actor chosen to play the lead in Superman, is the best reason to see the movie. He has an open-faced,...\n",
       "weekend_1967   by Pauline Kael Only the title of Jean-Luc Godard’s new film is casual and innocent; Weekend is the most powerful mystical movie since The Seventh..."
      ]
     },
     "execution_count": 28,
     "metadata": {},
     "output_type": "execute_result"
    }
   ],
   "source": [
    "import pandas as pd\n",
    "pd.set_option('max_colwidth',150)\n",
    "data_df = pd.DataFrame.from_dict(data_combined).transpose()\n",
    "data_df.columns = ['transcript']\n",
    "data_df = data_df.sort_index()\n",
    "data_df"
   ]
  },
  {
   "cell_type": "code",
   "execution_count": 27,
   "metadata": {},
   "outputs": [
    {
     "data": {
      "text/plain": [
       "'by Pauline Kael Christopher Reeve, the young actor chosen to play the lead in Superman, is the best reason to see the movie. He has an open-faced, deadpan style that’s just right for a windup hero. Reeve plays innocent but not dumb, and the combination of his Pop jawline and physique with his unassuming manner makes him immediately likable. In this role. Reeve comes close to being a living equivalent of comic-strip art—that slang form of simplified storytelling in which the visual and verbal meanings can be totally absorbed at a glance. But Superman, one of the two or three most expensive movies ever made, and with the biggest event promotion yet, is a cheesy-looking film, with a John Williams “epic” score that transcends self-parody—cosmic fanfares keep coming when there’s nothing to celebrate. The sound piercing your head tells you that you should remember each name in the euphoric opening credits. That’s where the peak emotion in the film is: in the package.\\nSuperman gives the impression of having been made in panic—in fear that “too much” imagination might endanger the film’s appeal to the literal-minded. With astronomic sums of money involved (though not in ways perceptible to viewers), the producers and the director, Richard Donner, must have been afraid even of style—afraid that it would function satirically, as a point of view (as it does in the James Bond pictures). Style, to them, probably meant the risk of camp, which might endanger the film’s appeal to the widest audience. Several modern directors (most notably Godard) have been influenced by the visual boldness of comic-strip art—by the primary colors, unfurnished environments, and crisp, posterish sophistication—and the Pop artists who did blowups of comic-strip frames made us conscious of the formal intelligence in those cartoons, but Superman hasn’t been designed in terms of the conventions of Pop. It has no controlling vision; there’s so little consistency that each sequence might have had a different director and been color-processed in a different lab. Visually, it’s not much more than a 70-mm. version of a kiddie-matinée serial. Superman carries a dedication to its cinematographer, Geoffrey Unsworth, who died a few months ago, but this poorly lighted and, for the most part, indifferently composed film is not a fitting tribute to the man who shot Cabaret.\\nThe immediacy of comic strips has a magical effect on kids. The plot is socked to them, with exclamation points. And we go to Superman hoping for that kind of disreputable energy. But it isn’t there, and you can feel the anticipatory elation in the theatre draining out. Donner doesn’t draw us in and hold on to us; we’re with him only in brief patches—a few seconds each. The plotting is so hit or miss that the movie never seems to get started. It should, because there’s a marvellous, simplistic fantasy in the story of Superman: a superior being from another planet who is so strong that he can take care of the problems afflicting ours with his bare hands, but who must not reveal himself, and so goes among us in disguise as Clark Kent, a timid, clumsy, bespectacled reporter. Jerry Siegel and Joe Shuster, the Cleveland teen-agers who developed the idea and began trying to market the strip in 1933 and finally succeeded in 1938, provided a metaphor for the troubles and conflicts of boy dreamers: hidden inside the fumbling, fear-ridden adolescent is the all-competent giant. The divided hero is both a ninety-seven-pound weakling and Charles Atlas, but, unlike human beings, with their hope that the clown will grow into the hero. Superman is split forever. He can perform miracles, but he remains frustrated: as Clark Kent, this lonely stranger cannot win the woman he loves—the girl reporter Lois Lane—because she is in love with Superman. (Like the Scarlet Pimpernel and a number of other mass-culture heroes, he is his own rival.) This tragicomic figure might have provided a great central character for a space-adventure picture—a supremely human non-human hero—if only the moviemakers had trusted the idea of Superman.\\nThe story has been updated from the thirties to the seventies, but not modernized, not rethought—just plunked down in the seventies. In the era of Al Pacino, Dustin Hoffman, and Woody Allen—a time when people acknowledge the humor and good sense in cowardice—might not the girl reporter (Margot Kidder) find herself drawn to Clark Kent’s unsureness and feel some conflict in her swooning response to Superman? (She might even prefer Clark Kent.) And, in an era in which urban corruption and decay are deep and widespread. Superman’s confident identification with the forces of law and order, and his thinking that he’s cleaning up Metropolis (New York City) when he claps some burglars and thieves in jail, might be treated with a little irony. (It would be more fun to see him putting out a fire while kids threw stones at him. or arresting a mugger and being surrounded by an angry, booing crowd, or tackling the garbage problem.) The Superman who announces “I’m here to fight for truth, justice, and the American way’’ needs a little ribbing. But the film doesn’t bring any ambiguity into this portrait of an outsize F.B.I. man from space. It doesn’t risk new sources of comedy. It sticks to dumb jokes about spelling, and low-comedy scenes between Lex Luthor (Gene Hackman), the criminal mastermind who makes his home under Grand Central Station, and his bungling helper (Ned Beatty), with Luthor’s floozy (Valerie Perrine) looking on. You can see that Hackman likes the idea of dressing up in what must be Liberace’s castoffs and playing a funny maniac, and when he has a halfway good line he scores his laugh. But he’s strenuously frivolous, like a guest villain on a late-sixties “Batman” show. Most of the time, he and Beatty are doing deliberately corny material—a kiddies’ version of the kind of burlesque routines that Roy Kinnear does in Richard Lester movies—and the director can’t seem to get the timing right.\\nProbably the moviemakers thought that the picture would sell on its special effects—Superman’s flying, and his rescues, and the disasters and cataclysms. The special effects are far from wizardly, though, and the editing often seems hurried and jerky just at the crucial moments. The biggest effects (such as Superman’s zipping up the San Andreas fault) are truncated—a couple of quick shots and out. In the early scenes on the planet Krypton, where the infant Superman lives, we’re acutely conscious of the lack of elegance in the design, because Krypton, which is supposed to be more advanced than Earth by thousands of years, has plastic-chandelier décor. like a Vegas lobby. There is only one truly elegant trick effect in the Krypton footage: three revolutionary “traitors” who are expelled from the planet become reflections trapped in a fifth-dimensional object that suggests a flying mirror. The conversation of the advanced beings on Krypton isn’t very stimulating, either. Mostly, it’s just the infant’s father, Jor-El (Marlon Brando), delivering ponderosities. Brando has begun to look like an Indian chief, and he confers a distinguished presence on his scenes. His magnificent head is topped with white hair, and he does a straightforward God the Father performance, with perhaps a trace of Claude Rains in his intonations. Jor-El packs his plump, bright-eyed infant off to Earth, in a little star-shaped spaceship, just before Krypton is destroyed. It’s a husky three-year-old with an impish expression who lands in a farming area, in a sequence of considerable charm. Glenn Ford is an inspired choice for Pa Kent, the farmer, who. with Ma Kent (Phyllis Thaxter), adopts the boy—Ford’s resources as an actor having contracted to the point where he has become a comic-strip version of the simple good American. Photographically, this farmland section, with almost motionless clouds hovering over wheat fields that stretch to infinity, and one or two looming figures, has a look that’s related to Pop enlargements, but it’s the enlargement of Andrew Wyeth or Peter Hurd. It doesn’t have the stylish crude strength of cartoons—its strength is softer, more genteel. Though visually striking, this section is weakened by a choice that makes almost no sense: instead of going directly from the child actor to Christopher Reeve and letting him play the eighteen-year-old Superman, the film introduces another actor (Jeff East), who doesn’t look like the little boy or like Reeve. This intermediate figure is very inexpressive, and something about him seems all wrong—is it just his pompadour, or is he wearing a false nose?\\nPart of the appeal that has made Superman last so long is surely in the quasi-religious feelings that children develop about him: he’s the savior myth of their very own subculture. Although this film tries to supply an element of mysticism (the box-office lesson of Star Wars and The Force has been learned), it’s Superman in the form of the joyless interim actor who goes to the North Pole to commune with his psychically still alive father. Jor-El informs him of his mystical mission to serve “collective humanity,” and Brando shows a gleam of amusement as he instructs the youth in the capacity for goodness of the people on Earth, and says. “For this reason above all—their capacity for good—I have sent them you, my only son.” The sequence takes place at the Fortress of Solitude, which constitutes itself out of the ice for Superman. This should be the magical heart of the film, and surely a building that materializes out of ice might do so with occult symmetry? But the mystic fortress looks like a crystal wigwam that is being put up by a stoned backpacker.\\nThe film rallies when Reeve takes over—especially when he gets out of the drably staged scenes at the offices of the Daily Planet, gets into his red cape and blue tights, flies over Metropolis, and performs a string of miracles. Yet after the first graceful feat, in which he saves Lois Lane, who has fallen from a helicopter that crashed on a skyscraper, and then steadies the falling chopper (with the injured pilot inside) and gently lifts it to safety, the other miracles don’t have enough tension to be memorable: each one wipes out our memory of the one before. And the insufferable shimmering metallic music—as congratulatory as a laugh track—smudges them together. When Superman takes his beloved up for a joyride in the sky, the cutting works against the soaring romanticism that we’re meant to feel, and, with Lois reciting Leslie Bricusse lyrics to convey her poetic emotions, even the magic of two lovers flying hand in hand over New York City is banalized. Lois Lane has always been one of the more boring figures in popular mythology: she exists to get into trouble. Margot Kidder tries to do something with this thankless part, but she’s harsh-voiced, and comes across as nervous and jumpy; she seems all wrong in relation to Reeve, who outclasses her. He’s so gentlemanly that her lewdness makes one cringe. (We aren’t given a clue to what our hero sees in Lois Lane. It might have been more modern fun if he hadn’t been particularly struck by her until she’d rejected his cowardly Clark Kent side for his Superman side—if, like any other poor cluck, he wanted to be loved for his weakness.)\\nSuperman doesn’t have enough conviction or courage to be solidly square and dumb; it keeps pushing smarmy big emotions at us—but half-heartedly. It has a sour, scared undertone. And you can’t help being aware that this is the sort of movie that increases the cynicism and sense of futility among actors. In order to sell the film as star-studded, a great many famous performers were signed up and then stuck in among the plastic bric-a-brac of Krypton; performers who get solo screen credits, with the full blast of trumpets and timpani, turn out to have walk-ons. Susannah York is up there as the infant Superman’s mother, but, though Krypton is very advanced, this mother seems to have no part in the decision to send her baby to Earth. York has no part of any kind; she stares at the camera and moves her mouth as if she’d got a bit of food stuck in a back tooth. Of all the actors gathered here—all acting in different styles—she, maybe, by her placid distaste, communicates with us most directly. The New Yorker, January 1, 1979'"
      ]
     },
     "execution_count": 27,
     "metadata": {},
     "output_type": "execute_result"
    }
   ],
   "source": [
    "data_df.transcript.loc['superman']"
   ]
  },
  {
   "cell_type": "code",
   "execution_count": null,
   "metadata": {},
   "outputs": [],
   "source": [
    "#start cleaning and remove extra words\n",
    "#[23]"
   ]
  }
 ],
 "metadata": {
  "kernelspec": {
   "display_name": "Python 3",
   "language": "python",
   "name": "python3"
  },
  "language_info": {
   "codemirror_mode": {
    "name": "ipython",
    "version": 3
   },
   "file_extension": ".py",
   "mimetype": "text/x-python",
   "name": "python",
   "nbconvert_exporter": "python",
   "pygments_lexer": "ipython3",
   "version": "3.7.1"
  }
 },
 "nbformat": 4,
 "nbformat_minor": 2
}
